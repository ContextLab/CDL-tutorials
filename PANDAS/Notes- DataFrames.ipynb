{
 "cells": [
  {
   "cell_type": "markdown",
   "metadata": {},
   "source": [
    "lists are first made into columns when passed through a DataFrame if you want them in rows transpose (.T)"
   ]
  },
  {
   "cell_type": "markdown",
   "metadata": {},
   "source": [
    "more commonly you pass through as a dictonary where the keys are the names of the columns and the values of the directorary are the names of the expected values "
   ]
  },
  {
   "cell_type": "markdown",
   "metadata": {},
   "source": [
    "note: that arrays do have to have the same length \n",
    "adding a new column letters['numbers']= what you are settign it to\n",
    "can ask for datatype letters.dtypes\n",
    ".sort('anycolm')\n",
    ".sort()\n",
    "letters[]\n",
    "letters[['','']]goes columns first\n",
    "can use .iloc\n",
    ".describe  "
   ]
  },
  {
   "cell_type": "markdown",
   "metadata": {
    "collapsed": true
   },
   "source": [
    "**import a data set in csv?**\n",
    "pd.read_csv('')- imports the csv \n",
    " worth exploring (using ?) the pd.read_csv function as there's a fair amount that this funciton can do\n",
    "can also use describe command with the DF\n"
   ]
  },
  {
   "cell_type": "markdown",
   "metadata": {},
   "source": [
    " **Fixing inconsistencies with your DFs **\n",
    " For dates:\n",
    "from datetime import datetime\n",
    "start = datetime(yr,month,day) #note csv format\n",
    "end = datetime(yr,month,day)\n",
    "or could do:\n",
    "start = df.index.min() #where df is your DF name\n",
    "end = df.index.max()\n",
    "\n",
    "d = pd.DataFrame(index=pd.date_range(start, end))\n"
   ]
  },
  {
   "cell_type": "markdown",
   "metadata": {},
   "source": [
    "now to join the two. **import the picture? find a better picture?**\n",
    "there are many different ways to join \n"
   ]
  }
 ],
 "metadata": {
  "kernelspec": {
   "display_name": "Python 3",
   "language": "python",
   "name": "python3"
  },
  "language_info": {
   "codemirror_mode": {
    "name": "ipython",
    "version": 3
   },
   "file_extension": ".py",
   "mimetype": "text/x-python",
   "name": "python",
   "nbconvert_exporter": "python",
   "pygments_lexer": "ipython3",
   "version": "3.6.3"
  }
 },
 "nbformat": 4,
 "nbformat_minor": 2
}
