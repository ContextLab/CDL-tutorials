{
 "cells": [
  {
   "cell_type": "markdown",
   "metadata": {},
   "source": [
    "*** What is PANDAS? ***\n",
    "- PANDAS is a powerful python library that is used for data manipulation, it follows the Split-Apply-Combine style of data analysis where you break up a big problem into manageable pieces, then operates on each piece independently and finally puts all the pieces back together.\n",
    "    - for more on this see: Hadley Wickhan from Rice University: http://www.jstatsoft.org/v40/i01/paper"
   ]
  },
  {
   "cell_type": "markdown",
   "metadata": {},
   "source": [
    "*** Types of types in PANDAS: ***\n",
    "* Panda Series- Similar to a 1-D array in num.py, call using pd.Series \n",
    "* Panda Index- \"which provides sort of an indexing framework\" the first row of the series, call using pd.Index\n",
    "- DataFrame- similar to a excel or sql table as it has both columns and rows, each column is a series of data and these series can have relationships, call using pd.DataFrame"
   ]
  },
  {
   "cell_type": "markdown",
   "metadata": {},
   "source": [
    "*** Main Ways to Query: ***\n",
    "- Note: Can querry by location or index value \n",
    "- data[]\n",
    "    - can put a range of the data or a value in the brackets and returns more information on that set\n",
    "* data.head(#) \n",
    "    - prints first # values of dataset, 5 by default\n",
    "* data.tail(#) \n",
    "    - prints last # values of dataset, 5 by default\n",
    "* series_name.ix[]\n",
    "    - general indexing, can be used for integer position and for labels\n",
    "* series_name.iget() (only for versions lower than 0.20.3) \n",
    "    * use .loc[] for updated versions\n",
    "* series_name.iloc[]\n",
    "    - \"location\"- use for integer position querring \n",
    "* series_name.sort('column_name')\n",
    "    * series_name.sort() returns a sort low to high based on the first column \n",
    "- df.index"
   ]
  },
  {
   "cell_type": "markdown",
   "metadata": {},
   "source": [
    "*** Series/DataFrame Functions: ***\n",
    "- name.shape / len(name)\n",
    "    - functionally the same returns the length of the series/ dataframe\n",
    "- name.mean\n",
    "- name.median \n",
    "- name.mode\n",
    "- name.count \n",
    "- name.unique \n",
    "    - returns the number of unique values\n",
    "- name.value_count\n",
    "- **name.describe** \n",
    "    - provides count, mean, std, max, and dtype\n",
    "- **.apply** \n",
    "    - applies a function to the DataFrame or Series"
   ]
  },
  {
   "cell_type": "markdown",
   "metadata": {},
   "source": [
    "*** NaNs: ***\n",
    "* note: NaNs are treated differently in PANDAS than in numpy\n",
    "- NaNs are ignored for the most part when considering functions \n",
    "    - especially when doing math functions \n",
    "    - i.e. the mean of a set can be caluculated even if there are NaNs in the set\n"
   ]
  },
  {
   "cell_type": "markdown",
   "metadata": {},
   "source": [
    "*** Formatting Dates/Time ***\n",
    "- PANDAS recognizes  dates in yyyy-mm-dd format so it is suggested to print the .head() of your date column and ensure it is in the right format and has a dtype of datetime \n",
    "- One can change the dtype to a datetime by parsing the data as it is imported using the parse_dates tool\n",
    "    - while parse_dates is a powerful tool it isn't always perfect so some tweaking may need to occur"
   ]
  },
  {
   "cell_type": "markdown",
   "metadata": {
    "collapsed": true
   },
   "source": [
    "*** DataFrame Manipulation: ***\n",
    "- dataframe_name.columns - retrieves the names of the columns  \n",
    "- different ways to fill in data:\n",
    "    - .fillna()\n",
    "        - looks for all NaNs and fills with value inputed, if no value selected defaluts to 0\n",
    "    - .ffill()\n",
    "        - fills last known values from before the NaNs, can select to use on just one column by stating df('columnname').ffill()\n",
    "    - .bfill()\n",
    "        - fills last known values from after the NaNs\n",
    "    - .dropna()\n",
    "        - Return object with labels on given axis omitted where alternately any or all of the data are missing\n",
    "        - to drop all missing data use .dropna(how='any')\n",
    "- .stack()\n",
    "    - compresses a level in the DataFrame column, an \"undo\" by using .unstack()\n"
   ]
  },
  {
   "cell_type": "code",
   "execution_count": 1,
   "metadata": {},
   "outputs": [
    {
     "data": {
      "text/html": [
       "<img src=\"http://i.stack.imgur.com/GbJ7N.png\"/>"
      ],
      "text/plain": [
       "<IPython.core.display.Image object>"
      ]
     },
     "execution_count": 1,
     "metadata": {},
     "output_type": "execute_result"
    }
   ],
   "source": [
    "from IPython.display import Image\n",
    "Image(url='http://i.stack.imgur.com/GbJ7N.png')"
   ]
  },
  {
   "cell_type": "markdown",
   "metadata": {},
   "source": [
    "*** Joining Data: ***\n",
    "- The bulk of the data joining that the lab will be doing will be the \"full outer join\"\n",
    "- To do this we use the function: A.join(B, how=\"outer\")"
   ]
  },
  {
   "cell_type": "markdown",
   "metadata": {},
   "source": [
    "*** Importing/Saving data: ***\n",
    "- **.read_csv('')** - imports data that has been saved in a csv form\n",
    "    - there are many parameters that this function has including skipping rows, columns and setting data types use ?.read_csv to further explore\n",
    "    - or read in the format the data is in (json, excel...)\n",
    "- name.to_csv/excel/pickel/json/....\n",
    "- plt.savefig('.../ locaiton/.png') -or .img or other file type\n",
    "- .DataFrame.to_latex \n",
    "    - returns a formatted latex strign of data, the command provides many parameters for custumiztion "
   ]
  },
  {
   "cell_type": "markdown",
   "metadata": {},
   "source": [
    "*** Plotting data:*** \n",
    "- PANDAS uses matplotlib \n",
    "- name.hist()\n",
    "     - can define number of bins-- .hist('column_name',bins=#, figsize=(#,#))\n",
    "- name.boxplot()\n",
    "- name.bar()\n",
    "- plt.xlim((#, #))\n",
    "- plt.ylim((#,#))\n",
    "- plt.title(\"title of plot\")\n",
    "- plt.savefig('location to save plot to.png')"
   ]
  },
  {
   "cell_type": "markdown",
   "metadata": {
    "collapsed": true
   },
   "source": [
    "*** Helpful Tips: *** (Feel free to add your own!)\n",
    "- when editing/manipulating data in PANDAS it is advised to use the inplace= True command\n",
    "- if not the package will make a new dataframe instead of editing the old one, this of course could be what you had in mind but then just be sure to name it appropriately to avoid confusion\n"
   ]
  },
  {
   "cell_type": "code",
   "execution_count": null,
   "metadata": {
    "collapsed": true
   },
   "outputs": [],
   "source": []
  }
 ],
 "metadata": {
  "kernelspec": {
   "display_name": "Python 3",
   "language": "python",
   "name": "python3"
  },
  "language_info": {
   "codemirror_mode": {
    "name": "ipython",
    "version": 3
   },
   "file_extension": ".py",
   "mimetype": "text/x-python",
   "name": "python",
   "nbconvert_exporter": "python",
   "pygments_lexer": "ipython3",
   "version": "3.6.3"
  }
 },
 "nbformat": 4,
 "nbformat_minor": 2
}
