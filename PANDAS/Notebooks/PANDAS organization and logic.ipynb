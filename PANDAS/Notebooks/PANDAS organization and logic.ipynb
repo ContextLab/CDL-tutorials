{
 "cells": [
  {
   "cell_type": "markdown",
   "metadata": {},
   "source": [
    "Pandas is mainly useful for modeling and analyzing data in a python environment. \n",
    "\n",
    "The main tools in the library are the *DataFrame*, handling of *missing data*, *reshaping*, and *grouping* tools. There are also a plethora of ways to import, plot, store, read, and write data in this package.\n",
    " "
   ]
  },
  {
   "cell_type": "markdown",
   "metadata": {},
   "source": [
    "**Logic behind having both dataframes and series**\n",
    "\n",
    "- a series is a 1D array, made up of scalars, while a DataFrame is a 2D array (made up of series)\n",
    "- by having both of these structures it is possible to group/regroup quickly as well as scale objects quickly \n",
    "- it also allows for dictionary like actions to take place within the dataframes and series\n",
    "    - i.e. indexing with rows and columns \n",
    "- the length of a series cannot be changed but columns can be inserted into a DataFrame\n",
    "    - the practice is to favor immutability when sensible\n"
   ]
  },
  {
   "cell_type": "markdown",
   "metadata": {},
   "source": [
    "**Don't be afraid of the community! **\n",
    "\n",
    "As PANDAS is an open source package There is a large amount of community support for the package. This notebook is a good place to get started and additional resources are below feel free to add ones you have found useful\n",
    "\n",
    "https://pandas.pydata.org/pandas-docs/stable/whatsnew.html\n",
    "http://www.dataschool.io/easier-data-analysis-with-pandas/ (short videos on common questions)\n",
    "\n"
   ]
  },
  {
   "cell_type": "code",
   "execution_count": null,
   "metadata": {
    "collapsed": true
   },
   "outputs": [],
   "source": []
  }
 ],
 "metadata": {
  "kernelspec": {
   "display_name": "Python 3",
   "language": "python",
   "name": "python3"
  },
  "language_info": {
   "codemirror_mode": {
    "name": "ipython",
    "version": 3
   },
   "file_extension": ".py",
   "mimetype": "text/x-python",
   "name": "python",
   "nbconvert_exporter": "python",
   "pygments_lexer": "ipython3",
   "version": "3.6.3"
  }
 },
 "nbformat": 4,
 "nbformat_minor": 2
}
