{
 "cells": [
  {
   "cell_type": "markdown",
   "metadata": {},
   "source": [
    "lists are first made into columns when passed through a DataFrame if you want them in rows transpose (.T)"
   ]
  },
  {
   "cell_type": "markdown",
   "metadata": {},
   "source": [
    "more commonly you pass through as a dictonary where the keys are the names of the columns and the values of the directorary are the names of the expected values "
   ]
  },
  {
   "cell_type": "code",
   "execution_count": null,
   "metadata": {
    "collapsed": true
   },
   "outputs": [],
   "source": [
    "note: that arrays do have to have the same length \n",
    "adding a new column letters['numbers']= what you are settign it to\n",
    "can ask for datatype letters.dtypes\n",
    ".sort('anycolm')\n",
    ".sort()\n",
    "letters[]\n",
    "letters[['','']]goes columns first\n",
    "can use .iloc\n",
    ".describe  "
   ]
  }
 ],
 "metadata": {
  "kernelspec": {
   "display_name": "Python 3",
   "language": "python",
   "name": "python3"
  },
  "language_info": {
   "codemirror_mode": {
    "name": "ipython",
    "version": 3
   },
   "file_extension": ".py",
   "mimetype": "text/x-python",
   "name": "python",
   "nbconvert_exporter": "python",
   "pygments_lexer": "ipython3",
   "version": "3.6.3"
  }
 },
 "nbformat": 4,
 "nbformat_minor": 2
}
