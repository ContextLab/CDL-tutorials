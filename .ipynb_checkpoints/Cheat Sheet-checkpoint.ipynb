{
 "cells": [
  {
   "cell_type": "markdown",
   "metadata": {},
   "source": [
    "Types of types in PANDAS:\n",
    "* Panda Series- Similar to a 1-D array in num.py, call using pd.Series \n",
    "* Panda Index- \"which provides sort of an idexing framework\" the first row of the series, , call using pd.Index"
   ]
  },
  {
   "cell_type": "markdown",
   "metadata": {},
   "source": [
    "Main Ways to Query:\n",
    "- Note: Can querry by location or index value \n",
    "* data [] \n",
    "* data.head()\n",
    "* data.tail()\n",
    "* series_name.ix()\n",
    "* series_name.iget() (only for verisons lower than 0.20.3) \n",
    "    * instead use .loc[] or .iat[]\n",
    "    * .iat isn't working\n",
    "* series_name.iloc()\n"
   ]
  },
  {
   "cell_type": "markdown",
   "metadata": {},
   "source": [
    "Numbers Functions:\n",
    "- series_name.shape \n",
    "- len(series_name)\n",
    "- series_name.mean\n",
    "- series_name.median \n",
    "- series_name.mode\n",
    "- series_name.count \n",
    "- series_name.unique \n",
    "- series_name.value_count\n",
    "- **series_name.describe** (provides count, mean, std, max, and dtype)\n",
    "-"
   ]
  },
  {
   "cell_type": "markdown",
   "metadata": {},
   "source": [
    "NaNs:\n",
    "* treateed differently than in numpy\n",
    "- NaNs are ignored for the most part when considereing functions "
   ]
  },
  {
   "cell_type": "markdown",
   "metadata": {},
   "source": [
    "Plotting Functions:\n",
    "- series_name.hist()\n",
    "- series_name.boxplot()"
   ]
  },
  {
   "cell_type": "code",
   "execution_count": null,
   "metadata": {
    "collapsed": true
   },
   "outputs": [],
   "source": [
    ".read_csv"
   ]
  }
 ],
 "metadata": {
  "kernelspec": {
   "display_name": "Python 3",
   "language": "python",
   "name": "python3"
  },
  "language_info": {
   "codemirror_mode": {
    "name": "ipython",
    "version": 3
   },
   "file_extension": ".py",
   "mimetype": "text/x-python",
   "name": "python",
   "nbconvert_exporter": "python",
   "pygments_lexer": "ipython3",
   "version": "3.6.3"
  }
 },
 "nbformat": 4,
 "nbformat_minor": 2
}
