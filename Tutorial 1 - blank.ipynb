{
 "cells": [
  {
   "cell_type": "code",
   "execution_count": 11,
   "metadata": {
    "collapsed": true
   },
   "outputs": [],
   "source": [
    "%matplotlib inline\n",
    "import sys\n",
    "import numpy as np\n",
    "import pandas as pd\n",
    "import matplotlib.pyplot as plt"
   ]
  },
  {
   "cell_type": "markdown",
   "metadata": {},
   "source": [
    "In this tutorial I will provide markdown commands and ways for you to manipulate the data. If you get stuck after reffering to both the cheat sheet and the list of basic commands, there will be a walkthrough on \"Tutorial 1\"- Filled out"
   ]
  },
  {
   "cell_type": "markdown",
   "metadata": {},
   "source": [
    "To start off please upload the raw_running_data.csv from the data folder and look at the first few data points"
   ]
  },
  {
   "cell_type": "code",
   "execution_count": null,
   "metadata": {
    "collapsed": true
   },
   "outputs": [],
   "source": []
  },
  {
   "cell_type": "markdown",
   "metadata": {},
   "source": [
    "- How many columns are there? How many rows?\n",
    "- What are the different datatypes in each column?\n",
    "    - Is there anything off about that?\n",
    "\n"
   ]
  },
  {
   "cell_type": "markdown",
   "metadata": {},
   "source": [
    "The date column is reading as an object- let's change that, make sure to check dtype after you've done this"
   ]
  },
  {
   "cell_type": "markdown",
   "metadata": {},
   "source": [
    "awesome! 👌 let's now set the date as the index (recall that we want to create all of our changes to the current dataset not create a new one)"
   ]
  },
  {
   "cell_type": "markdown",
   "metadata": {},
   "source": [
    "now let's a function to describe the dataframe"
   ]
  },
  {
   "cell_type": "markdown",
   "metadata": {},
   "source": [
    "For background this dataset is based off someone's running data as they geared up to a marathon. Somethings to notice are that there are many NaN values in the \"times\" column and miles.  Then are days when the runner took days off, or chose to run multiple times in one day."
   ]
  },
  {
   "cell_type": "markdown",
   "metadata": {},
   "source": [
    "Let's pull out all of the information for October to illustrate the inconsistences of the data"
   ]
  },
  {
   "cell_type": "markdown",
   "metadata": {},
   "source": [
    "Now let's fill in these gaps, starting at August 1st, 2014 and ending at January 2nd 2015. First create a new set containing the columns that extend from the new start and end date."
   ]
  },
  {
   "cell_type": "markdown",
   "metadata": {},
   "source": [
    "Now join the set of all dates with our old DataFrame, we will want to combine both the full set of dates with the entirity of the old DataFrame. Think of ways you can double check that you did that correctly. "
   ]
  },
  {
   "cell_type": "markdown",
   "metadata": {},
   "source": [
    "We can see that there are many NaN values in the Miles column, try converting all of these to zeros and plot the resulting graph with the y axis having a range of 0-30 and a label of \"miles\" and the x-axis having the label \"Date\""
   ]
  },
  {
   "cell_type": "markdown",
   "metadata": {},
   "source": [
    "Well done, let's save what we've done so far. Name this dataset something new and save it has a .csv, we will use it in the next tutorial."
   ]
  }
 ],
 "metadata": {
  "kernelspec": {
   "display_name": "Python 3",
   "language": "python",
   "name": "python3"
  },
  "language_info": {
   "codemirror_mode": {
    "name": "ipython",
    "version": 3
   },
   "file_extension": ".py",
   "mimetype": "text/x-python",
   "name": "python",
   "nbconvert_exporter": "python",
   "pygments_lexer": "ipython3",
   "version": "3.6.3"
  }
 },
 "nbformat": 4,
 "nbformat_minor": 2
}
