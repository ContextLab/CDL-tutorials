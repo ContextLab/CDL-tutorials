{
 "cells": [
  {
   "cell_type": "markdown",
   "metadata": {},
   "source": [
    "# IPytest way:"
   ]
  },
  {
   "cell_type": "code",
   "execution_count": 1,
   "metadata": {
    "collapsed": false
   },
   "outputs": [],
   "source": [
    "__file__ = 'Testing.ipynb'"
   ]
  },
  {
   "cell_type": "markdown",
   "metadata": {},
   "source": [
    "## Add libraries"
   ]
  },
  {
   "cell_type": "code",
   "execution_count": 2,
   "metadata": {
    "collapsed": true
   },
   "outputs": [],
   "source": [
    "# add ipython magics\n",
    "import ipytest.magics\n",
    "import pytest"
   ]
  },
  {
   "cell_type": "markdown",
   "metadata": {},
   "source": [
    "Ok, to get started I'll define a simple function:"
   ]
  },
  {
   "cell_type": "markdown",
   "metadata": {},
   "source": [
    "## Define function:"
   ]
  },
  {
   "cell_type": "code",
   "execution_count": 3,
   "metadata": {
    "collapsed": true
   },
   "outputs": [],
   "source": [
    "def func(x):\n",
    "    return x + 1"
   ]
  },
  {
   "cell_type": "markdown",
   "metadata": {},
   "source": [
    "### `ipytest.run_pytest(module=None, filename=None, pytest_options=(), pytest_plugins=())`"
   ]
  },
  {
   "cell_type": "markdown",
   "metadata": {},
   "source": [
    "### Test that passes:"
   ]
  },
  {
   "cell_type": "code",
   "execution_count": 4,
   "metadata": {
    "collapsed": false
   },
   "outputs": [
    {
     "name": "stdout",
     "output_type": "stream",
     "text": [
      "========================================================================= test session starts =========================================================================\n",
      "platform darwin -- Python 2.7.10, pytest-3.0.5, py-1.4.32, pluggy-0.4.0\n",
      "rootdir: /Users/lucyowen/repos/tutorials/CDL-tutorials/testing/notebooks, inifile: \n",
      "collected 1 items\n",
      "\n",
      "Testing.py .\n",
      "\n",
      "====================================================================== 1 passed in 0.01 seconds =======================================================================\n"
     ]
    }
   ],
   "source": [
    "%%run_pytest[clean]\n",
    "## the clean option cleans tests after each cell, but actually doesnt work\n",
    "def test_correct_func():\n",
    "    assert func(4) == 5# and this test will fail"
   ]
  },
  {
   "cell_type": "markdown",
   "metadata": {},
   "source": [
    "### Test that fails:"
   ]
  },
  {
   "cell_type": "code",
   "execution_count": 5,
   "metadata": {
    "collapsed": false
   },
   "outputs": [
    {
     "name": "stdout",
     "output_type": "stream",
     "text": [
      ".F\n",
      "============================================================================== FAILURES ===============================================================================\n",
      "_________________________________________________________________________ test_incorrect_func _________________________________________________________________________\n",
      "\n",
      "    def test_incorrect_func():\n",
      ">       assert func(3) == 5\n",
      "E       AssertionError\n",
      "\n",
      "<ipython-input-5-eff8175dd41e>:3: AssertionError\n",
      "1 failed, 1 passed in 0.07 seconds\n"
     ]
    }
   ],
   "source": [
    "%%run_pytest[clean] -q\n",
    "# and this test will fail but the output is much less with the quiet flag (-q)\n",
    "def test_incorrect_func():\n",
    "    assert func(3) == 5"
   ]
  },
  {
   "cell_type": "markdown",
   "metadata": {},
   "source": [
    "You can see in the output which test fails and how long it took to run."
   ]
  },
  {
   "cell_type": "markdown",
   "metadata": {},
   "source": [
    "##  Assert that a certain error is raised\n",
    "\n",
    "###  Use `raises` helper to asser that some code raises an exception"
   ]
  },
  {
   "cell_type": "code",
   "execution_count": 6,
   "metadata": {
    "collapsed": false
   },
   "outputs": [
    {
     "name": "stdout",
     "output_type": "stream",
     "text": [
      ".F.\n",
      "============================================================================== FAILURES ===============================================================================\n",
      "_________________________________________________________________________ test_incorrect_func _________________________________________________________________________\n",
      "\n",
      "    def test_incorrect_func():\n",
      ">       assert func(3) == 5\n",
      "E       AssertionError\n",
      "\n",
      "<ipython-input-5-eff8175dd41e>:3: AssertionError\n",
      "1 failed, 2 passed in 0.02 seconds\n"
     ]
    }
   ],
   "source": [
    "%%run_pytest[clean] -q\n",
    "def f():\n",
    "    raise SystemExit(1)\n",
    "\n",
    "def test_mytest():\n",
    "    with pytest.raises(SystemExit):\n",
    "        f()"
   ]
  },
  {
   "cell_type": "markdown",
   "metadata": {},
   "source": [
    "## Group multiple tests in a class"
   ]
  },
  {
   "cell_type": "code",
   "execution_count": 7,
   "metadata": {
    "collapsed": false
   },
   "outputs": [
    {
     "name": "stdout",
     "output_type": "stream",
     "text": [
      ".F.F.\n",
      "============================================================================== FAILURES ===============================================================================\n",
      "_________________________________________________________________________ TestClass.test_two __________________________________________________________________________\n",
      "\n",
      "self = <__main__.TestClass object at 0x111b0a850>\n",
      "\n",
      "    def test_two(self):\n",
      "        x = \"hello\"\n",
      ">       assert hasattr(x, 'check')\n",
      "E       AssertionError\n",
      "\n",
      "<ipython-input-7-687e3470f8f6>:8: AssertionError\n",
      "_________________________________________________________________________ test_incorrect_func _________________________________________________________________________\n",
      "\n",
      "    def test_incorrect_func():\n",
      ">       assert func(3) == 5\n",
      "E       AssertionError\n",
      "\n",
      "<ipython-input-5-eff8175dd41e>:3: AssertionError\n",
      "2 failed, 3 passed in 0.05 seconds\n"
     ]
    }
   ],
   "source": [
    "%%run_pytest[clean] -q\n",
    "class TestClass(object):\n",
    "    def test_one(self):\n",
    "        x = \"this\"\n",
    "        assert 'h' in x\n",
    "\n",
    "    def test_two(self):\n",
    "        x = \"hello\"\n",
    "        assert hasattr(x, 'check')"
   ]
  },
  {
   "cell_type": "code",
   "execution_count": null,
   "metadata": {
    "collapsed": true
   },
   "outputs": [],
   "source": [
    ""
   ]
  }
 ],
 "metadata": {
  "kernelspec": {
   "display_name": "Python 2",
   "language": "python",
   "name": "python2"
  },
  "language_info": {
   "codemirror_mode": {
    "name": "ipython",
    "version": 2.0
   },
   "file_extension": ".py",
   "mimetype": "text/x-python",
   "name": "python",
   "nbconvert_exporter": "python",
   "pygments_lexer": "ipython2",
   "version": "2.7.10"
  }
 },
 "nbformat": 4,
 "nbformat_minor": 0
}