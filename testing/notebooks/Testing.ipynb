{
 "cells": [
  {
   "cell_type": "markdown",
   "metadata": {},
   "source": [
    "# IPytest way:"
   ]
  },
  {
   "cell_type": "code",
   "execution_count": 1,
   "metadata": {
    "collapsed": false
   },
   "outputs": [],
   "source": [
    "__file__ = 'Testing.ipynb'"
   ]
  },
  {
   "cell_type": "markdown",
   "metadata": {},
   "source": [
    "## Add libraries"
   ]
  },
  {
   "cell_type": "code",
   "execution_count": 2,
   "metadata": {
    "collapsed": true
   },
   "outputs": [],
   "source": [
    "# add ipython magics\n",
    "import ipytest.magics\n",
    "import pytest"
   ]
  },
  {
   "cell_type": "markdown",
   "metadata": {},
   "source": [
    "Ok, to get started I'll define a simple function:"
   ]
  },
  {
   "cell_type": "markdown",
   "metadata": {},
   "source": [
    "## Define function:"
   ]
  },
  {
   "cell_type": "code",
   "execution_count": 3,
   "metadata": {
    "collapsed": true
   },
   "outputs": [],
   "source": [
    "def func(x):\n",
    "    return x + 1"
   ]
  },
  {
   "cell_type": "markdown",
   "metadata": {},
   "source": [
    "### `ipytest.run_pytest(module=None, filename=None, pytest_options=(), pytest_plugins=())`"
   ]
  },
  {
   "cell_type": "markdown",
   "metadata": {},
   "source": [
    "### Test that passes:"
   ]
  },
  {
   "cell_type": "code",
   "execution_count": 4,
   "metadata": {
    "collapsed": false
   },
   "outputs": [
    {
     "name": "stdout",
     "output_type": "stream",
     "text": [
      "========================================================================= test session starts =========================================================================\n",
      "platform darwin -- Python 2.7.10, pytest-3.0.5, py-1.4.32, pluggy-0.4.0\n",
      "rootdir: /Users/lucyowen/repos/tutorials/CDL-tutorials/testing/notebooks, inifile: \n",
      "collected 1 items\n",
      "\n",
      "Testing.py .\n",
      "\n",
      "====================================================================== 1 passed in 0.01 seconds =======================================================================\n"
     ]
    }
   ],
   "source": [
    "%%run_pytest[clean]\n",
    "## the clean option cleans tests after each cell, but actually doesnt work\n",
    "def test_correct_func():\n",
    "    assert func(4) == 5# and this test will fail"
   ]
  },
  {
   "cell_type": "markdown",
   "metadata": {},
   "source": [
    "### Test that fails:"
   ]
  },
  {
   "cell_type": "code",
   "execution_count": 5,
   "metadata": {
    "collapsed": false
   },
   "outputs": [
    {
     "name": "stdout",
     "output_type": "stream",
     "text": [
      ".F\n",
      "============================================================================== FAILURES ===============================================================================\n",
      "_________________________________________________________________________ test_incorrect_func _________________________________________________________________________\n",
      "\n",
      "    def test_incorrect_func():\n",
      ">       assert func(3) == 5\n",
      "E       AssertionError\n",
      "\n",
      "<ipython-input-5-eff8175dd41e>:3: AssertionError\n",
      "1 failed, 1 passed in 0.07 seconds\n"
     ]
    }
   ],
   "source": [
    "%%run_pytest[clean] -q\n",
    "# and this test will fail but the output is much less with the quiet flag (-q)\n",
    "def test_incorrect_func():\n",
    "    assert func(3) == 5"
   ]
  },
  {
   "cell_type": "markdown",
   "metadata": {},
   "source": [
    "You can see in the output which test fails and how long it took to run."
   ]
  },
  {
   "cell_type": "markdown",
   "metadata": {},
   "source": [
    "### Test with `isinstance`:"
   ]
  },
  {
   "cell_type": "code",
   "execution_count": 9,
   "metadata": {
    "collapsed": false
   },
   "outputs": [
    {
     "name": "stdout",
     "output_type": "stream",
     "text": [
      ".F.F.F.\n",
      "============================================================================ FAILURES =============================================================================\n",
      "_______________________________________________________________________ TestClass.test_two ________________________________________________________________________\n",
      "\n",
      "self = <__main__.TestClass object at 0x10947c690>\n",
      "\n",
      "    def test_two(self):\n",
      "        x = \"hello\"\n",
      ">       assert hasattr(x, 'check')\n",
      "E       AssertionError\n",
      "\n",
      "<ipython-input-7-687e3470f8f6>:8: AssertionError\n",
      "_______________________________________________________________________ test_incorrect_func _______________________________________________________________________\n",
      "\n",
      "    def test_incorrect_func():\n",
      ">       assert func(3) == 5\n",
      "E       AssertionError\n",
      "\n",
      "<ipython-input-5-eff8175dd41e>:3: AssertionError\n",
      "_________________________________________________________________________ test_needsfiles _________________________________________________________________________\n",
      "\n",
      "tmpdir = local('/private/var/folders/yv/zbmhrmnx4xs3l3pdk2c2bmjr0000gn/T/pytest-of-lucyowen/pytest-38/test_needsfiles0')\n",
      "\n",
      "    def test_needsfiles(tmpdir):\n",
      "        print(tmpdir)\n",
      ">       assert 0\n",
      "E       AssertionError\n",
      "\n",
      "<ipython-input-8-00e592f9d700>:3: AssertionError\n",
      "---------------------------------------------------------------------- Captured stdout call -----------------------------------------------------------------------\n",
      "/private/var/folders/yv/zbmhrmnx4xs3l3pdk2c2bmjr0000gn/T/pytest-of-lucyowen/pytest-38/test_needsfiles0\n",
      "3 failed, 4 passed in 0.12 seconds\n"
     ]
    }
   ],
   "source": [
    "%%run_pytest[clean] -q\n",
    "# test type of the expected output with isinstance\n",
    "def test_float_func():\n",
    "    test_float = func(3.5)\n",
    "    assert test_float == 4.5\n",
    "    assert isinstance(test_float, float)"
   ]
  },
  {
   "cell_type": "markdown",
   "metadata": {},
   "source": [
    "##  Assert that a certain error is raised\n",
    "\n",
    "###  Use `raises` helper to assert that some code raises an exception"
   ]
  },
  {
   "cell_type": "code",
   "execution_count": 6,
   "metadata": {
    "collapsed": false
   },
   "outputs": [
    {
     "name": "stdout",
     "output_type": "stream",
     "text": [
      ".F.\n",
      "============================================================================== FAILURES ===============================================================================\n",
      "_________________________________________________________________________ test_incorrect_func _________________________________________________________________________\n",
      "\n",
      "    def test_incorrect_func():\n",
      ">       assert func(3) == 5\n",
      "E       AssertionError\n",
      "\n",
      "<ipython-input-5-eff8175dd41e>:3: AssertionError\n",
      "1 failed, 2 passed in 0.02 seconds\n"
     ]
    }
   ],
   "source": [
    "%%run_pytest[clean] -q\n",
    "def f():\n",
    "    raise SystemExit(1)\n",
    "\n",
    "def test_mytest():\n",
    "    with pytest.raises(SystemExit):\n",
    "        f()"
   ]
  },
  {
   "cell_type": "markdown",
   "metadata": {},
   "source": [
    "## Group multiple tests in a class"
   ]
  },
  {
   "cell_type": "code",
   "execution_count": 7,
   "metadata": {
    "collapsed": false
   },
   "outputs": [
    {
     "name": "stdout",
     "output_type": "stream",
     "text": [
      ".F.F.\n",
      "============================================================================== FAILURES ===============================================================================\n",
      "_________________________________________________________________________ TestClass.test_two __________________________________________________________________________\n",
      "\n",
      "self = <__main__.TestClass object at 0x1093a32d0>\n",
      "\n",
      "    def test_two(self):\n",
      "        x = \"hello\"\n",
      ">       assert hasattr(x, 'check')\n",
      "E       AssertionError\n",
      "\n",
      "<ipython-input-7-687e3470f8f6>:8: AssertionError\n",
      "_________________________________________________________________________ test_incorrect_func _________________________________________________________________________\n",
      "\n",
      "    def test_incorrect_func():\n",
      ">       assert func(3) == 5\n",
      "E       AssertionError\n",
      "\n",
      "<ipython-input-5-eff8175dd41e>:3: AssertionError\n",
      "2 failed, 3 passed in 0.05 seconds\n"
     ]
    }
   ],
   "source": [
    "%%run_pytest[clean] -q\n",
    "class TestClass(object):\n",
    "    def test_one(self):\n",
    "        x = \"this\"\n",
    "        assert 'h' in x\n",
    "\n",
    "    def test_two(self):\n",
    "        x = \"hello\"\n",
    "        assert hasattr(x, 'check')"
   ]
  },
  {
   "cell_type": "markdown",
   "metadata": {
    "collapsed": true
   },
   "source": [
    "The first test passed and the second failed. You can easily see the intermediate values in the assertion to help you understand the reason for the failure."
   ]
  },
  {
   "cell_type": "markdown",
   "metadata": {},
   "source": [
    "##  Make temporary folder\n",
    "\n",
    "### You can request a unique temporary directory for functional tests. List the name `tmpdir` in the test function signature and pytest will lookup and call a fixture factory to create the resource before performing the test function call. Before the test runs, pytest creates a unique-per-test-invocation temporary directory."
   ]
  },
  {
   "cell_type": "code",
   "execution_count": 8,
   "metadata": {
    "collapsed": false
   },
   "outputs": [
    {
     "name": "stdout",
     "output_type": "stream",
     "text": [
      ".F.F.F\n",
      "============================================================================== FAILURES ===============================================================================\n",
      "_________________________________________________________________________ TestClass.test_two __________________________________________________________________________\n",
      "\n",
      "self = <__main__.TestClass object at 0x1093b6d90>\n",
      "\n",
      "    def test_two(self):\n",
      "        x = \"hello\"\n",
      ">       assert hasattr(x, 'check')\n",
      "E       AssertionError\n",
      "\n",
      "<ipython-input-7-687e3470f8f6>:8: AssertionError\n",
      "_________________________________________________________________________ test_incorrect_func _________________________________________________________________________\n",
      "\n",
      "    def test_incorrect_func():\n",
      ">       assert func(3) == 5\n",
      "E       AssertionError\n",
      "\n",
      "<ipython-input-5-eff8175dd41e>:3: AssertionError\n",
      "___________________________________________________________________________ test_needsfiles ___________________________________________________________________________\n",
      "\n",
      "tmpdir = local('/private/var/folders/yv/zbmhrmnx4xs3l3pdk2c2bmjr0000gn/T/pytest-of-lucyowen/pytest-37/test_needsfiles0')\n",
      "\n",
      "    def test_needsfiles(tmpdir):\n",
      "        print(tmpdir)\n",
      ">       assert 0\n",
      "E       AssertionError\n",
      "\n",
      "<ipython-input-8-00e592f9d700>:3: AssertionError\n",
      "------------------------------------------------------------------------ Captured stdout call -------------------------------------------------------------------------\n",
      "/private/var/folders/yv/zbmhrmnx4xs3l3pdk2c2bmjr0000gn/T/pytest-of-lucyowen/pytest-37/test_needsfiles0\n",
      "3 failed, 3 passed in 0.08 seconds\n"
     ]
    }
   ],
   "source": [
    "%%run_pytest[clean] -q\n",
    "def test_needsfiles(tmpdir):\n",
    "    print(tmpdir)\n",
    "    assert 0"
   ]
  },
  {
   "cell_type": "code",
   "execution_count": null,
   "metadata": {
    "collapsed": true
   },
   "outputs": [],
   "source": []
  }
 ],
 "metadata": {
  "kernelspec": {
   "display_name": "Python 2",
   "language": "python",
   "name": "python2"
  },
  "language_info": {
   "codemirror_mode": {
    "name": "ipython",
    "version": 2
   },
   "file_extension": ".py",
   "mimetype": "text/x-python",
   "name": "python",
   "nbconvert_exporter": "python",
   "pygments_lexer": "ipython2",
   "version": "2.7.10"
  }
 },
 "nbformat": 4,
 "nbformat_minor": 0
}
