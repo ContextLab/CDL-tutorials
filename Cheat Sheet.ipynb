{
 "cells": [
  {
   "cell_type": "markdown",
   "metadata": {},
   "source": [
    "What is PANDAS?\n",
    "- PANDAS is a python library that is for data manipulation\n",
    "\n",
    "pandas follows the the Split-Apply-Combine style of data analysis.\n",
    "Many data analysis problems involve the application of a split-apply-combine strategy, where you break up a big problem into manageable pieces, operate on each piece independently and then put all the pieces back together.\n"
   ]
  },
  {
   "cell_type": "markdown",
   "metadata": {},
   "source": [
    "Types of types in PANDAS:\n",
    "* Panda Series- Similar to a 1-D array in num.py, call using pd.Series \n",
    "* Panda Index- \"which provides sort of an indexing framework\" the first row of the series, , call using pd.Index\n",
    "- DataFrame- similar to a excel or sql table as it has both columns and rows, each column is a series of data and these series can have relationships, call using pd.DataFrame"
   ]
  },
  {
   "cell_type": "markdown",
   "metadata": {},
   "source": [
    "Main Ways to Query:\n",
    "- Note: Can querry by location or index value \n",
    "* data [] \n",
    "* data.head()\n",
    "* data.tail()\n",
    "* series_name.ix()\n",
    "* series_name.iget() (only for versions lower than 0.20.3) \n",
    "    * instead use .loc[] \n",
    "* series_name.iloc()\n",
    "* series_name.sort('column_name')\n",
    "    * series_name.sort() returns a sort low to high based on the first column "
   ]
  },
  {
   "cell_type": "markdown",
   "metadata": {},
   "source": [
    "Series/DataFrame Functions:\n",
    "- name.shape \n",
    "- len(name)\n",
    "- name.mean\n",
    "- name.median \n",
    "- name.mode\n",
    "- name.count \n",
    "- name.unique \n",
    "- name.value_count\n",
    "- **name.describe** (provides count, mean, std, max, and dtype)"
   ]
  },
  {
   "cell_type": "markdown",
   "metadata": {},
   "source": [
    "NaNs:\n",
    "* treated differently than in numpy\n",
    "- NaNs are ignored for the most part when considering functions "
   ]
  },
  {
   "cell_type": "markdown",
   "metadata": {},
   "source": [
    "Formatting Dates/Time\n",
    "- pd.read_csv('../data/raw_running_data.csv', parse_dates=['column_name']\n",
    "    -or read in the format the data is in (json, excel...)\n",
    "- PANDAS recognizes  dates in yyyy-mm-dd format so it is suggested to print the .head() of your date column and ensure it is in the right format and has a dtype of datetime \n",
    "- while parse_dates is a powerful tool it isn't always perfect so some tweaking may need to occur"
   ]
  },
  {
   "cell_type": "markdown",
   "metadata": {
    "collapsed": true
   },
   "source": [
    "DataFrame Manipulation:\n",
    "- **.read_csv('')** - imports data that has been saved in a csv form\n",
    "    - there are many parameters that this function has including skipping rows, columns and setting data types use ?.read_csv to further explore\n",
    "- dataframe_name.columns - retrieves the names of the columns  \n",
    "- joining data (import photo?):\n",
    "- different ways to fill in data\n",
    "    - .fillna(value)- looks for all NaNs and fills with value inputed, if no value selected defaluts to 0\n",
    "    - .ffill()-fills last known values from before the NaNs, can select to use on just one column by stating df('columnname').ffill()\n",
    "    - .bfill()-fills last known values from after the NaNs\n",
    "    - .dropna()- Return object with labels on given axis omitted where alternately any or all of the data are missing"
   ]
  },
  {
   "cell_type": "code",
   "execution_count": 1,
   "metadata": {},
   "outputs": [
    {
     "data": {
      "text/html": [
       "<img src=\"http://i.stack.imgur.com/GbJ7N.png\"/>"
      ],
      "text/plain": [
       "<IPython.core.display.Image object>"
      ]
     },
     "execution_count": 1,
     "metadata": {},
     "output_type": "execute_result"
    }
   ],
   "source": [
    "from IPython.display import Image\n",
    "Image(url='http://i.stack.imgur.com/GbJ7N.png')"
   ]
  },
  {
   "cell_type": "markdown",
   "metadata": {},
   "source": [
    "Joining Data:\n",
    "- The bulk of the data joining that the lab will be doing will be the \"full outer join\"\n",
    "- To do this we use the function: A.join(B, how=\"outer\")"
   ]
  },
  {
   "cell_type": "markdown",
   "metadata": {},
   "source": [
    "Saving data:\n",
    "- name.to_csv/excel/pickel/json/....\n",
    "- plt.savefig('.../ locaiton/.png') -or .img or other file type"
   ]
  },
  {
   "cell_type": "markdown",
   "metadata": {},
   "source": [
    "Plotting data:\n",
    "- PANDAS uses matplotlib \n",
    "- name.hist()\n",
    "     - can define number of bins-- .hist('column_name',bins=#, figsize=(#,#))\n",
    "- name.boxplot()\n",
    "- name.bar()\n",
    "- plt.xlim((#, #))\n",
    "- plt.ylim((#,#))\n",
    "- plt.title(\"title of plot\")\n",
    "- plt.savefig('location to save plot to.png')"
   ]
  },
  {
   "cell_type": "markdown",
   "metadata": {
    "collapsed": true
   },
   "source": [
    "Helpful Tips:\n",
    "- when editing/manipulating data in PANDAS it is advised to use the inplace= True command\n",
    "- if not the package will make a new dataframe instead of editing the old one, this of course could be what you had in mind but then just be sure to name it appropriately to avoid confusion\n"
   ]
  },
  {
   "cell_type": "code",
   "execution_count": null,
   "metadata": {
    "collapsed": true
   },
   "outputs": [],
   "source": []
  }
 ],
 "metadata": {
  "kernelspec": {
   "display_name": "Python 3",
   "language": "python",
   "name": "python3"
  },
  "language_info": {
   "codemirror_mode": {
    "name": "ipython",
    "version": 3
   },
   "file_extension": ".py",
   "mimetype": "text/x-python",
   "name": "python",
   "nbconvert_exporter": "python",
   "pygments_lexer": "ipython3",
   "version": "3.6.3"
  }
 },
 "nbformat": 4,
 "nbformat_minor": 2
}
