{
 "cells": [
  {
   "cell_type": "code",
   "execution_count": null,
   "metadata": {},
   "outputs": [],
   "source": [
    "%matplotlib inline\n",
    "import pystan\n",
    "import numpy as np\n",
    "import matplotlib\n",
    "# create the model\n",
    "model = \"\"\"\n",
    "functions{\n",
    "    real avg(int[] deaths, int N) {\n",
    "        real total = 0;\n",
    "        for (n in 1:N) {\n",
    "            real temp = total;\n",
    "            total = temp + deaths[n];\n",
    "        }\n",
    "        real temp2 = total / N;\n",
    "        return temp2;\n",
    "    }\n",
    "}\n",
    "data {\n",
    "    int<lower = 0> N;\n",
    "    int deaths[N];\n",
    "}\n",
    "transformed parameters{\n",
    "    real lambda = avg(deaths, N);\n",
    "}\n",
    "model {\n",
    "    deaths ~ poisson(lambda);\n",
    "}\n",
    "\"\"\"\n",
    "\n",
    "# number of deaths by horse or mule kicks in 10 corps of the Prussian army per year, from von Bortkiewicz\n",
    "von_bort = np.array(  [[1875,    3],\n",
    "                   [1876,    5],\n",
    "                   [1877,    7],\n",
    "                   [1878,    9],\n",
    "                   [1879,   10],\n",
    "                   [1880,    6],\n",
    "                   [1881,   14],\n",
    "                   [1882,   11],\n",
    "                   [1883,    9],\n",
    "                   [1884,    5],\n",
    "                   [1885,   11],\n",
    "                   [1886,   15],\n",
    "                   [1887,    6],\n",
    "                   [1888,   11],\n",
    "                   [1889,   17],\n",
    "                   [1890,   12],\n",
    "                   [1891,   15],\n",
    "                   [1892,    8],\n",
    "                   [1893,    8],\n",
    "                   [1894,    4]])\n",
    "\n",
    "# put the data in a dictionary\n",
    "data = {'N':len(von_bort[:,1]), 'deaths': von_bort[:,1]}\n",
    "\n",
    "# make the model!\n",
    "sm = pystan.stan(model_code=model, algorithm='Fixed_param')\n",
    "\n",
    "# train the model!\n",
    "fit = sm.sampling(data=data)\n",
    "\n",
    "print(fit.stansummary())"
   ]
  },
  {
   "cell_type": "code",
   "execution_count": 6,
   "metadata": {},
   "outputs": [
    {
     "ename": "NameError",
     "evalue": "name 'fit' is not defined",
     "output_type": "error",
     "traceback": [
      "\u001b[0;31m---------------------------------------------------------------------------\u001b[0m",
      "\u001b[0;31mNameError\u001b[0m                                 Traceback (most recent call last)",
      "\u001b[0;32m<ipython-input-6-d59589fdc1e7>\u001b[0m in \u001b[0;36m<module>\u001b[0;34m\u001b[0m\n\u001b[0;32m----> 1\u001b[0;31m \u001b[0mfit\u001b[0m\u001b[0;34m.\u001b[0m\u001b[0mplot\u001b[0m\u001b[0;34m(\u001b[0m\u001b[0;34m)\u001b[0m\u001b[0;34m\u001b[0m\u001b[0;34m\u001b[0m\u001b[0m\n\u001b[0m",
      "\u001b[0;31mNameError\u001b[0m: name 'fit' is not defined"
     ]
    }
   ],
   "source": []
  }
 ],
 "metadata": {
  "kernelspec": {
   "display_name": "Python 3",
   "language": "python",
   "name": "python3"
  },
  "language_info": {
   "codemirror_mode": {
    "name": "ipython",
    "version": 3
   },
   "file_extension": ".py",
   "mimetype": "text/x-python",
   "name": "python",
   "nbconvert_exporter": "python",
   "pygments_lexer": "ipython3",
   "version": "3.7.3"
  }
 },
 "nbformat": 4,
 "nbformat_minor": 2
}
