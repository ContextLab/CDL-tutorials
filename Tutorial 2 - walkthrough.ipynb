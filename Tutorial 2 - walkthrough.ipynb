{
 "cells": [
  {
   "cell_type": "code",
   "execution_count": 3,
   "metadata": {},
   "outputs": [],
   "source": [
    "%matplotlib inline\n",
    "import sys\n",
    "import numpy as np\n",
    "import pandas as pd\n",
    "import matplotlib.pyplot as plt"
   ]
  },
  {
   "cell_type": "markdown",
   "metadata": {},
   "source": [
    "Let's import the data we cleaned up from the last time, and use the head function to show the first few values"
   ]
  },
  {
   "cell_type": "code",
   "execution_count": 6,
   "metadata": {},
   "outputs": [
    {
     "data": {
      "text/html": [
       "<div>\n",
       "<style>\n",
       "    .dataframe thead tr:only-child th {\n",
       "        text-align: right;\n",
       "    }\n",
       "\n",
       "    .dataframe thead th {\n",
       "        text-align: left;\n",
       "    }\n",
       "\n",
       "    .dataframe tbody tr th {\n",
       "        vertical-align: top;\n",
       "    }\n",
       "</style>\n",
       "<table border=\"1\" class=\"dataframe\">\n",
       "  <thead>\n",
       "    <tr style=\"text-align: right;\">\n",
       "      <th></th>\n",
       "      <th>Unnamed: 0</th>\n",
       "      <th>Miles</th>\n",
       "      <th>Time</th>\n",
       "    </tr>\n",
       "  </thead>\n",
       "  <tbody>\n",
       "    <tr>\n",
       "      <th>0</th>\n",
       "      <td>2014-08-01</td>\n",
       "      <td>0.0</td>\n",
       "      <td>NaN</td>\n",
       "    </tr>\n",
       "    <tr>\n",
       "      <th>1</th>\n",
       "      <td>2014-08-02</td>\n",
       "      <td>1.7</td>\n",
       "      <td>NaN</td>\n",
       "    </tr>\n",
       "    <tr>\n",
       "      <th>2</th>\n",
       "      <td>2014-08-03</td>\n",
       "      <td>1.4</td>\n",
       "      <td>NaN</td>\n",
       "    </tr>\n",
       "    <tr>\n",
       "      <th>3</th>\n",
       "      <td>2014-08-04</td>\n",
       "      <td>2.1</td>\n",
       "      <td>NaN</td>\n",
       "    </tr>\n",
       "    <tr>\n",
       "      <th>4</th>\n",
       "      <td>2014-08-05</td>\n",
       "      <td>0.0</td>\n",
       "      <td>NaN</td>\n",
       "    </tr>\n",
       "  </tbody>\n",
       "</table>\n",
       "</div>"
      ],
      "text/plain": [
       "   Unnamed: 0  Miles Time\n",
       "0  2014-08-01    0.0  NaN\n",
       "1  2014-08-02    1.7  NaN\n",
       "2  2014-08-03    1.4  NaN\n",
       "3  2014-08-04    2.1  NaN\n",
       "4  2014-08-05    0.0  NaN"
      ]
     },
     "execution_count": 6,
     "metadata": {},
     "output_type": "execute_result"
    }
   ],
   "source": [
    "df = pd.read_csv('../PANDAS/data/date_fixed_running_data.csv')\n",
    "df.head()"
   ]
  },
  {
   "cell_type": "markdown",
   "metadata": {},
   "source": [
    "As we can see the DataFrame hasn't imported the exact way we saved it. Let's first rename our columns so that they are: Date, Miles, Time. There are a few different ways to do this. "
   ]
  },
  {
   "cell_type": "markdown",
   "metadata": {},
   "source": [
    "Now check to see the dtype of our \"Unnamed\" column to see if it still has the datetime type. "
   ]
  },
  {
   "cell_type": "markdown",
   "metadata": {},
   "source": [
    "Let's parse the data so we get it back into datetime, we can do this by importing the data again and use parse_dates on the column 'Date' or by indexing by column number."
   ]
  },
  {
   "cell_type": "markdown",
   "metadata": {},
   "source": [
    "After double-checking that the column 'Date' has the dtype datetime let's index the DataFrame by 'Date' again and then plot the function. This should look like our last plot from Tutorial 1"
   ]
  },
  {
   "cell_type": "markdown",
   "metadata": {},
   "source": [
    "Now that we have some of the basics down let's start manipulating this dataset further. \n",
    "\n",
    "First let's look examine the time column and try to get a sense of minutes per mile. If you think you have a sense of how to do this keep going and ignore my comments.\n",
    "\n",
    "In the time column, there are a fair amount of NaN values, for now we are going to use a map function to --- them out and with the remaining data we are going to translate it all into seconds\n",
    "\n",
    "hints: \n",
    "- PANDAS can break the data using the (:) that is already in the time data \n",
    "- use an if statement to return a np.nan if the time is not provided\n"
   ]
  },
  {
   "cell_type": "markdown",
   "metadata": {},
   "source": [
    "Great! Now let's add that calculation to as a column to our dataframe and print out the first 15 values to make sure it is working"
   ]
  },
  {
   "cell_type": "markdown",
   "metadata": {},
   "source": [
    "Now let's use the describe function to describe the dataset"
   ]
  },
  {
   "cell_type": "markdown",
   "metadata": {},
   "source": [
    "as you can tell the np.NaN's were simply ignored, this is really useful and better than filling the empty values with zeros as this could change the statistics\n"
   ]
  },
  {
   "cell_type": "markdown",
   "metadata": {},
   "source": [
    "Now let's make a new column that is in Minutes, we can do this by dividing the seconds column by 60. \n",
    "\n",
    "After adding the column, describe the dataframe then plot the DataFrame using a scatter plot with miles on the x-axis and minutes graphed on the y."
   ]
  },
  {
   "cell_type": "markdown",
   "metadata": {},
   "source": [
    "We can test the correlation of the dataset using .corr, try it out"
   ]
  },
  {
   "cell_type": "markdown",
   "metadata": {},
   "source": [
    "now let's figure out minutes per mile we can to do this we can divide the columns"
   ]
  },
  {
   "cell_type": "markdown",
   "metadata": {},
   "source": [
    "let's set a column to be 'Minutes per Mile' and then describe and scatter plot the dataframe again"
   ]
  },
  {
   "cell_type": "markdown",
   "metadata": {},
   "source": [
    "We can also use a histogram describe this dataset. PANADS defaults to 10 bins but the set might be best described using 20 bins. \n",
    "\n",
    "Plot the 'minutes per mile column' using a histogram with 20 bins\n"
   ]
  },
  {
   "cell_type": "code",
   "execution_count": null,
   "metadata": {
    "collapsed": true
   },
   "outputs": [],
   "source": []
  }
 ],
 "metadata": {
  "kernelspec": {
   "display_name": "Python 3",
   "language": "python",
   "name": "python3"
  },
  "language_info": {
   "codemirror_mode": {
    "name": "ipython",
    "version": 3
   },
   "file_extension": ".py",
   "mimetype": "text/x-python",
   "name": "python",
   "nbconvert_exporter": "python",
   "pygments_lexer": "ipython3",
   "version": "3.6.3"
  }
 },
 "nbformat": 4,
 "nbformat_minor": 2
}
